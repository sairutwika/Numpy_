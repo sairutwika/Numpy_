{
 "cells": [
  {
   "cell_type": "code",
   "execution_count": 7,
   "id": "9f391973-b665-4ca9-96b6-4ad241a6d3a6",
   "metadata": {},
   "outputs": [
    {
     "name": "stdout",
     "output_type": "stream",
     "text": [
      "Requirement already satisfied: numpy in c:\\users\\sairu\\anaconda3\\lib\\site-packages (1.26.4)\n",
      "Requirement already satisfied: pandas in c:\\users\\sairu\\anaconda3\\lib\\site-packages (2.2.3)\n",
      "Requirement already satisfied: numpy>=1.23.2 in c:\\users\\sairu\\anaconda3\\lib\\site-packages (from pandas) (1.26.4)\n",
      "Requirement already satisfied: python-dateutil>=2.8.2 in c:\\users\\sairu\\anaconda3\\lib\\site-packages (from pandas) (2.8.2)\n",
      "Requirement already satisfied: pytz>=2020.1 in c:\\users\\sairu\\anaconda3\\lib\\site-packages (from pandas) (2023.3.post1)\n",
      "Requirement already satisfied: tzdata>=2022.7 in c:\\users\\sairu\\anaconda3\\lib\\site-packages (from pandas) (2023.3)\n",
      "Requirement already satisfied: six>=1.5 in c:\\users\\sairu\\anaconda3\\lib\\site-packages (from python-dateutil>=2.8.2->pandas) (1.16.0)\n"
     ]
    }
   ],
   "source": [
    "! pip install numpy \n",
    "! pip install pandas"
   ]
  },
  {
   "cell_type": "code",
   "execution_count": 5,
   "id": "2d43cce3-4e49-4203-83ac-b3b255f80b30",
   "metadata": {},
   "outputs": [],
   "source": [
    "import numpy as np \n",
    "import pandas as pd"
   ]
  },
  {
   "cell_type": "code",
   "execution_count": 6,
   "id": "10d481c7-14af-4bf8-bfad-87485da0840d",
   "metadata": {},
   "outputs": [],
   "source": [
    "df = pd.read_csv(\"C:/Users/sairu/Downloads/Indian_Cricket_Team_Dataset.csv\")"
   ]
  },
  {
   "cell_type": "code",
   "execution_count": 8,
   "id": "0c708fc7-1fdd-4086-b749-bee531277bd5",
   "metadata": {},
   "outputs": [
    {
     "data": {
      "text/html": [
       "<div>\n",
       "<style scoped>\n",
       "    .dataframe tbody tr th:only-of-type {\n",
       "        vertical-align: middle;\n",
       "    }\n",
       "\n",
       "    .dataframe tbody tr th {\n",
       "        vertical-align: top;\n",
       "    }\n",
       "\n",
       "    .dataframe thead th {\n",
       "        text-align: right;\n",
       "    }\n",
       "</style>\n",
       "<table border=\"1\" class=\"dataframe\">\n",
       "  <thead>\n",
       "    <tr style=\"text-align: right;\">\n",
       "      <th></th>\n",
       "      <th>Player Name</th>\n",
       "      <th>Age</th>\n",
       "      <th>Matches Played</th>\n",
       "      <th>Batting Average</th>\n",
       "      <th>Strike Rate</th>\n",
       "    </tr>\n",
       "  </thead>\n",
       "  <tbody>\n",
       "    <tr>\n",
       "      <th>0</th>\n",
       "      <td>Player_1</td>\n",
       "      <td>26</td>\n",
       "      <td>456</td>\n",
       "      <td>27.70</td>\n",
       "      <td>188.21</td>\n",
       "    </tr>\n",
       "    <tr>\n",
       "      <th>1</th>\n",
       "      <td>Player_2</td>\n",
       "      <td>23</td>\n",
       "      <td>154</td>\n",
       "      <td>24.61</td>\n",
       "      <td>139.34</td>\n",
       "    </tr>\n",
       "    <tr>\n",
       "      <th>2</th>\n",
       "      <td>Player_3</td>\n",
       "      <td>32</td>\n",
       "      <td>210</td>\n",
       "      <td>36.87</td>\n",
       "      <td>182.79</td>\n",
       "    </tr>\n",
       "    <tr>\n",
       "      <th>3</th>\n",
       "      <td>Player_4</td>\n",
       "      <td>34</td>\n",
       "      <td>426</td>\n",
       "      <td>51.81</td>\n",
       "      <td>178.77</td>\n",
       "    </tr>\n",
       "    <tr>\n",
       "      <th>4</th>\n",
       "      <td>Player_5</td>\n",
       "      <td>30</td>\n",
       "      <td>221</td>\n",
       "      <td>49.80</td>\n",
       "      <td>162.44</td>\n",
       "    </tr>\n",
       "  </tbody>\n",
       "</table>\n",
       "</div>"
      ],
      "text/plain": [
       "  Player Name  Age  Matches Played  Batting Average  Strike Rate\n",
       "0    Player_1   26             456            27.70       188.21\n",
       "1    Player_2   23             154            24.61       139.34\n",
       "2    Player_3   32             210            36.87       182.79\n",
       "3    Player_4   34             426            51.81       178.77\n",
       "4    Player_5   30             221            49.80       162.44"
      ]
     },
     "execution_count": 8,
     "metadata": {},
     "output_type": "execute_result"
    }
   ],
   "source": [
    "df.head()"
   ]
  },
  {
   "cell_type": "code",
   "execution_count": 9,
   "id": "3c8abe34-e9e3-4596-a749-2bbc0cf5b3ca",
   "metadata": {},
   "outputs": [],
   "source": [
    "df1 = df.copy()"
   ]
  },
  {
   "cell_type": "markdown",
   "id": "812d120d-45ef-4c2b-9bfe-7bbb2d3d3bcd",
   "metadata": {},
   "source": [
    "# Query 1: Convert 'Age' column to a NumPy array"
   ]
  },
  {
   "cell_type": "code",
   "execution_count": 11,
   "id": "176483b4-e0fb-4de3-8a76-a874cee0e40e",
   "metadata": {},
   "outputs": [
    {
     "name": "stdout",
     "output_type": "stream",
     "text": [
      "<bound method IndexOpsMixin.to_numpy of 0      26\n",
      "1      23\n",
      "2      32\n",
      "3      34\n",
      "4      30\n",
      "       ..\n",
      "995    24\n",
      "996    28\n",
      "997    23\n",
      "998    35\n",
      "999    30\n",
      "Name: Age, Length: 1000, dtype: int64>\n"
     ]
    }
   ],
   "source": [
    "age_array = df1['Age'].to_numpy\n",
    "print(age_array)"
   ]
  },
  {
   "cell_type": "markdown",
   "id": "e99a2471-e7d0-43df-948f-e28e3e5ab0f9",
   "metadata": {},
   "source": [
    "# Query 2: Find the average age of player"
   ]
  },
  {
   "cell_type": "code",
   "execution_count": 16,
   "id": "5b8e1417-903f-4ac2-b8d6-52d8ad2b1a48",
   "metadata": {},
   "outputs": [
    {
     "name": "stdout",
     "output_type": "stream",
     "text": [
      "27.57\n"
     ]
    }
   ],
   "source": [
    "mean_value = df1[\"Age\"].mean()\n",
    "print(mean_value)"
   ]
  },
  {
   "cell_type": "markdown",
   "id": "01bc1af9-cf5e-4d51-bb84-3e5f4f46b0b8",
   "metadata": {},
   "source": [
    "# Query 3: Find the oldest and youngest player age. "
   ]
  },
  {
   "cell_type": "code",
   "execution_count": 19,
   "id": "58918408-062b-4fdd-9671-a1c117e013e2",
   "metadata": {},
   "outputs": [
    {
     "name": "stdout",
     "output_type": "stream",
     "text": [
      "35\n",
      "20\n"
     ]
    }
   ],
   "source": [
    "max_age = df1[\"Age\"].max()\n",
    "min_age = df1[\"Age\"].min()\n",
    "print(max_age)\n",
    "print(min_age)\n"
   ]
  },
  {
   "cell_type": "markdown",
   "id": "ffd1d255-8a46-4bbd-aece-c0c65b45a5f9",
   "metadata": {},
   "source": [
    "# Query 4: Count the total number of players above 30 years old."
   ]
  },
  {
   "cell_type": "code",
   "execution_count": 20,
   "id": "47b06016-1356-4320-9f19-42cfb27ad502",
   "metadata": {},
   "outputs": [
    {
     "name": "stdout",
     "output_type": "stream",
     "text": [
      "336\n"
     ]
    }
   ],
   "source": [
    "count_age = df1[\"Age\"] > 30\n",
    "count = count_age.sum()\n",
    "print(count)"
   ]
  },
  {
   "cell_type": "markdown",
   "id": "12448830-4cbe-4692-b042-e8dff5c77f67",
   "metadata": {},
   "source": [
    "# Query 5: Find the median batting average."
   ]
  },
  {
   "cell_type": "code",
   "execution_count": 21,
   "id": "54e01457-8d2b-4d55-86ad-039772ed6bb6",
   "metadata": {},
   "outputs": [
    {
     "name": "stdout",
     "output_type": "stream",
     "text": [
      "40.135\n"
     ]
    }
   ],
   "source": [
    "batting_average = df1[\"Batting Average\"].median()\n",
    "print(batting_average)"
   ]
  },
  {
   "cell_type": "markdown",
   "id": "a80de0d9-eb13-4218-a80e-a987c89119d8",
   "metadata": {},
   "source": [
    "# Query 6: Find the standard deviation of strike rates."
   ]
  },
  {
   "cell_type": "code",
   "execution_count": 22,
   "id": "1fbc64c2-1d28-4449-83db-882416559350",
   "metadata": {},
   "outputs": [
    {
     "name": "stdout",
     "output_type": "stream",
     "text": [
      "29.122759125573694\n"
     ]
    }
   ],
   "source": [
    "standard_deviation = df1[\"Strike Rate\"].std() \n",
    "print(standard_deviation)"
   ]
  },
  {
   "cell_type": "markdown",
   "id": "96424110-caaa-4a84-a090-a44f273920d2",
   "metadata": {},
   "source": [
    "# Query 7: Find the 90th percentile of batting average. "
   ]
  },
  {
   "cell_type": "code",
   "execution_count": 24,
   "id": "32049dee-45eb-48b2-84a7-a104703ded2a",
   "metadata": {},
   "outputs": [
    {
     "name": "stdout",
     "output_type": "stream",
     "text": [
      "55.323\n"
     ]
    }
   ],
   "source": [
    "batting_avg_90th_percentile = df1[\"Batting Average\"].quantile(0.90)\n",
    "\n",
    "print(batting_avg_90th_percentile)"
   ]
  },
  {
   "cell_type": "markdown",
   "id": "b3cdb3d0-b930-4724-9155-254c0c2e7770",
   "metadata": {},
   "source": [
    "# Query 8: Find the number of players with strike rate above 150. "
   ]
  },
  {
   "cell_type": "markdown",
   "id": "54f69e93-6e25-4115-8f0a-7fa0cefa87e8",
   "metadata": {},
   "source": [
    "strike_rate = (df1[\"Strike Rate\"] > 150).sum() \n",
    "print(strike_rate)"
   ]
  },
  {
   "cell_type": "markdown",
   "id": "29f20817-bbec-42e4-8a53-9ddce18bb142",
   "metadata": {},
   "source": [
    "# Query 9: Reshape the first 20 batting averages into a 4x5 matrix. "
   ]
  },
  {
   "cell_type": "code",
   "execution_count": 29,
   "id": "293b7aca-7853-470a-86ac-241bf8162f02",
   "metadata": {},
   "outputs": [
    {
     "name": "stdout",
     "output_type": "stream",
     "text": [
      "[[27.7  24.61 36.87 51.81 49.8 ]\n",
      " [22.2  38.21 40.9  45.78 46.01]\n",
      " [34.59 42.43 39.24 55.4  41.21]\n",
      " [37.64 36.18 42.9  52.16 41.54]]\n"
     ]
    }
   ],
   "source": [
    "batting_avg_20 = df[\"Batting Average\"].head(20).to_numpy()\n",
    "batting_avg_matrix = batting_avg_20.reshape(4, 5)\n",
    "print( batting_avg_matrix)"
   ]
  },
  {
   "cell_type": "markdown",
   "id": "81819993-c8e0-4cab-aebb-b8598bfcb7e5",
   "metadata": {},
   "source": [
    "# Query 10: Compute row-wise sum of reshaped matrix. "
   ]
  },
  {
   "cell_type": "code",
   "execution_count": 30,
   "id": "9ce17822-6d4f-49a6-a15d-a1c0e89a0024",
   "metadata": {},
   "outputs": [
    {
     "name": "stdout",
     "output_type": "stream",
     "text": [
      "[190.79 193.1  212.87 210.42]\n"
     ]
    }
   ],
   "source": [
    "batting_avg_20 = df[\"Batting Average\"].head(20).to_numpy()\n",
    "batting_avg_matrix = batting_avg_20.reshape(4, 5)\n",
    "row_sums = batting_avg_matrix.sum(axis=1)\n",
    "print(row_sums)"
   ]
  },
  {
   "cell_type": "markdown",
   "id": "99458353-4c73-48eb-92be-48d352026d85",
   "metadata": {},
   "source": [
    "# Query 11: Compute column-wise mean of reshaped matrix. "
   ]
  },
  {
   "cell_type": "code",
   "execution_count": 31,
   "id": "ee945750-071c-4186-96c4-28d05b567e74",
   "metadata": {},
   "outputs": [
    {
     "name": "stdout",
     "output_type": "stream",
     "text": [
      "[30.5325 35.3575 39.9775 51.2875 44.64  ]\n"
     ]
    }
   ],
   "source": [
    "batting_avg_20 = df[\"Batting Average\"].head(20).to_numpy()\n",
    "batting_avg_matrix = batting_avg_20.reshape(4, 5)\n",
    "col_means = batting_avg_matrix.mean(axis=0)\n",
    "print(col_means)"
   ]
  },
  {
   "cell_type": "markdown",
   "id": "fdf7196c-a3e6-4762-8c07-0488c6bed23c",
   "metadata": {},
   "source": [
    "# Query 12: Transpose the reshaped matrix. "
   ]
  },
  {
   "cell_type": "code",
   "execution_count": 32,
   "id": "7e7d1546-899e-4c90-a634-20e79e4a7f67",
   "metadata": {},
   "outputs": [
    {
     "name": "stdout",
     "output_type": "stream",
     "text": [
      "[30.5325 35.3575 39.9775 51.2875 44.64  ]\n"
     ]
    }
   ],
   "source": [
    "transpose = col_means.T\n",
    "print(transpose)"
   ]
  },
  {
   "cell_type": "markdown",
   "id": "90147e0a-11a3-430a-b57c-56cb5b13b9a3",
   "metadata": {},
   "source": [
    "# Query 13: Find the variance of batting average. "
   ]
  },
  {
   "cell_type": "code",
   "execution_count": 33,
   "id": "b83ef473-b0f8-4b39-bc69-c0352286c614",
   "metadata": {},
   "outputs": [
    {
     "name": "stdout",
     "output_type": "stream",
     "text": [
      "131.6715008167167\n"
     ]
    }
   ],
   "source": [
    "variance = df[\"Batting Average\"].var() \n",
    "print(variance)"
   ]
  },
  {
   "cell_type": "markdown",
   "id": "a48564b0-cb9e-4a82-9e70-ca77c9a4c53a",
   "metadata": {},
   "source": [
    "# Query 14: Stack age and matches played horizontally."
   ]
  },
  {
   "cell_type": "code",
   "execution_count": 34,
   "id": "72a18de9-ea8f-4560-8581-a231b0dfd4ad",
   "metadata": {},
   "outputs": [
    {
     "name": "stdout",
     "output_type": "stream",
     "text": [
      "[[ 26 456]\n",
      " [ 23 154]\n",
      " [ 32 210]\n",
      " ...\n",
      " [ 23 126]\n",
      " [ 35  16]\n",
      " [ 30 146]]\n"
     ]
    }
   ],
   "source": [
    "\n",
    "age_array = df[\"Age\"].to_numpy()\n",
    "matches_played_array = df[\"Matches Played\"].to_numpy()\n",
    "stacked_array = np.column_stack((age_array, matches_played_array))\n",
    "print( stacked_array)\n"
   ]
  },
  {
   "cell_type": "markdown",
   "id": "514766c6-550b-4b24-a78b-d104ff9cd6f3",
   "metadata": {},
   "source": [
    "# Query 15: Split the batting average array into 5 equal parts."
   ]
  },
  {
   "cell_type": "code",
   "execution_count": 36,
   "id": "b35ef89f-ad83-43a9-bbcb-e461a162a129",
   "metadata": {},
   "outputs": [
    {
     "name": "stdout",
     "output_type": "stream",
     "text": [
      "Part 1:\n",
      " [27.7  24.61 36.87 51.81 49.8  22.2  38.21 40.9  45.78 46.01 34.59 42.43\n",
      " 39.24 55.4  41.21 37.64 36.18 42.9  52.16 41.54 46.47 49.51 40.81 37.07\n",
      " 55.07 36.7  38.48 59.61 20.01 27.42 35.36 57.3  22.8  20.38 22.11 23.54\n",
      " 21.5  39.19 43.23 30.87 35.93 23.67 33.45 40.9  49.29 20.13 38.69 31.88\n",
      " 54.11 48.62 43.56 31.09 56.41 21.8  24.38 35.67 24.98 58.26 51.92 30.36\n",
      " 43.54 59.29 55.37 44.03 56.15 59.57 49.73 22.6  36.06 53.51 29.22 53.23\n",
      " 24.81 21.88 35.36 21.47 58.29 53.05 52.03 45.19 28.65 40.73 43.89 41.\n",
      " 30.41 40.61 39.65 59.85 55.9  38.54 44.92 49.91 21.39 55.8  54.41 38.3\n",
      " 35.65 30.92 39.07 21.78 54.09 21.42 33.16 57.26 49.41 31.26 30.11 20.2\n",
      " 47.83 21.95 41.3  58.48 24.38 55.78 59.66 22.46 55.32 40.64 56.26 42.85\n",
      " 46.48 41.75 54.58 49.36 40.85 54.73 29.81 26.29 26.42 33.36 29.55 57.2\n",
      " 24.23 47.96 27.57 55.27 58.45 38.62 55.16 20.21 52.8  29.15 56.35 20.04\n",
      " 42.25 50.27 30.35 27.73 23.36 33.06 42.39 24.63 35.07 20.36 52.75 25.14\n",
      " 31.33 20.74 37.29 53.6  35.69 27.18 50.15 51.55 26.95 50.83 57.89 26.66\n",
      " 50.84 48.34 38.94 22.32 22.99 54.1  59.61 47.04 37.84 45.9  43.78 35.34\n",
      " 22.63 52.86 34.87 52.75 30.1  20.04 26.36 38.74 57.77 24.09 54.17 41.08\n",
      " 53.04 31.93 53.6  50.91 29.2  25.25 54.72 58.53]\n",
      "Part 2:\n",
      " [21.25 49.25 56.38 54.29 58.58 50.4  37.69 32.48 32.83 48.98 49.83 28.01\n",
      " 54.72 48.6  42.51 38.86 41.73 26.37 28.15 23.65 26.15 38.15 41.21 20.71\n",
      " 51.87 31.77 56.47 58.7  27.42 38.48 20.05 43.93 44.29 29.9  42.34 29.02\n",
      " 26.43 46.06 33.04 43.61 37.33 59.37 25.98 38.58 47.22 35.82 58.99 48.88\n",
      " 46.28 50.28 58.11 56.31 48.97 49.97 25.84 24.11 42.84 20.73 39.29 28.41\n",
      " 33.84 51.03 57.65 22.9  41.37 55.3  23.3  52.98 34.31 32.88 59.1  28.03\n",
      " 47.73 52.86 21.65 46.82 58.06 24.97 55.85 43.79 44.66 44.52 31.95 57.41\n",
      " 57.89 45.01 51.34 44.49 39.38 46.43 42.12 43.9  51.35 39.24 21.63 26.56\n",
      " 37.54 48.99 43.73 46.01 39.17 44.63 33.16 38.81 49.77 54.87 37.35 21.75\n",
      " 26.47 20.83 46.13 33.29 41.7  39.73 23.26 36.13 28.82 36.74 28.14 53.62\n",
      " 26.97 58.43 36.64 53.85 45.15 49.41 50.71 40.19 41.73 40.56 43.52 21.18\n",
      " 35.82 44.25 43.91 51.72 46.2  59.69 31.35 34.37 35.35 38.63 53.44 29.43\n",
      " 51.04 36.21 44.07 45.3  34.91 40.5  36.52 22.77 37.49 23.9  36.2  43.72\n",
      " 43.18 46.5  23.81 46.08 32.49 35.96 54.32 20.36 43.54 43.95 35.87 29.48\n",
      " 29.39 55.35 37.68 33.24 37.95 46.78 25.83 37.98 43.52 57.94 30.1  34.37\n",
      " 35.17 44.22 34.27 41.34 51.27 48.22 37.85 54.57 42.33 41.6  21.37 59.47\n",
      " 24.92 29.25 22.07 45.6  28.99 27.2  23.54 24.13]\n",
      "Part 3:\n",
      " [43.39 47.53 35.9  39.2  47.44 20.7  32.93 58.92 43.2  30.17 40.87 33.71\n",
      " 41.29 25.03 25.31 25.74 57.59 49.32 26.5  27.53 49.23 26.25 29.38 58.53\n",
      " 30.21 46.47 59.15 34.97 20.7  29.77 53.24 54.58 50.74 24.52 51.82 56.75\n",
      " 44.02 57.64 53.07 46.68 43.09 33.94 26.37 44.2  32.72 54.66 59.73 50.1\n",
      " 23.62 31.55 24.36 46.02 50.61 57.03 37.53 56.06 55.12 32.69 54.76 35.03\n",
      " 31.87 45.96 33.14 45.21 44.39 42.54 35.22 41.94 43.86 41.83 37.78 20.59\n",
      " 43.48 26.74 45.7  50.37 40.02 41.69 58.06 53.89 56.57 52.55 24.36 25.96\n",
      " 41.06 29.84 39.07 35.77 41.98 49.88 48.62 40.85 52.9  37.23 55.87 22.85\n",
      " 58.19 46.19 35.2  27.89 39.17 27.78 26.65 44.69 40.92 46.8  57.18 41.29\n",
      " 43.24 23.59 48.71 36.   59.07 52.93 40.9  24.93 54.38 51.99 27.38 31.81\n",
      " 51.74 27.41 56.71 36.98 23.48 52.63 34.94 41.06 24.49 20.1  45.52 40.61\n",
      " 43.74 51.75 45.86 26.99 34.43 56.24 50.8  42.27 30.23 32.08 49.28 54.05\n",
      " 46.86 52.38 50.67 25.99 36.96 26.12 29.41 54.77 38.92 41.41 27.14 32.49\n",
      " 29.21 28.25 45.52 30.28 45.28 22.34 25.67 30.98 43.88 47.03 37.71 37.83\n",
      " 48.98 20.63 33.64 52.75 44.13 33.49 56.22 50.9  30.6  45.81 43.83 36.05\n",
      " 34.68 33.74 44.69 37.7  53.27 46.78 22.8  45.61 30.85 43.71 47.21 29.23\n",
      " 38.27 27.61 22.09 35.14 34.52 59.82 37.85 33.34]\n",
      "Part 4:\n",
      " [43.22 23.55 58.47 45.4  50.19 26.82 36.38 36.91 52.87 20.05 32.03 59.25\n",
      " 39.   35.3  24.79 58.97 20.8  49.49 50.74 29.75 46.86 23.72 30.28 51.52\n",
      " 54.59 44.34 40.27 26.37 22.52 24.71 29.09 33.67 35.24 33.85 29.56 40.39\n",
      " 53.01 31.19 57.7  54.93 26.47 51.45 42.98 42.66 35.64 40.05 35.89 41.59\n",
      " 45.12 46.97 41.3  48.86 25.65 28.48 52.75 32.9  20.92 26.15 28.94 58.29\n",
      " 42.92 57.31 43.01 39.17 32.55 44.25 25.57 55.93 53.17 32.7  58.11 53.01\n",
      " 46.65 24.87 39.13 40.24 29.3  23.2  51.07 24.88 43.77 57.46 55.04 31.11\n",
      " 54.06 20.01 20.71 44.1  34.59 35.46 42.58 27.67 28.47 39.38 50.17 44.78\n",
      " 31.89 37.21 26.83 22.99 51.31 30.62 27.11 47.66 44.72 45.33 29.16 29.31\n",
      " 28.83 26.95 46.23 53.92 48.97 51.68 36.19 46.16 34.17 41.02 39.27 27.08\n",
      " 35.48 58.55 29.94 25.35 36.74 51.61 43.29 47.24 27.59 44.76 32.94 53.37\n",
      " 45.17 27.95 22.58 21.71 34.86 30.63 45.84 39.97 30.64 25.97 25.09 54.59\n",
      " 29.74 46.07 52.43 44.56 54.38 35.7  58.25 25.33 24.09 46.35 57.71 52.36\n",
      " 23.06 31.17 57.21 30.12 51.25 53.01 39.82 35.45 38.   29.08 55.58 38.02\n",
      " 55.3  24.23 59.53 37.73 21.91 21.52 49.85 46.36 52.09 24.21 21.42 40.34\n",
      " 35.5  38.48 59.66 58.83 57.69 51.35 34.19 36.49 41.98 53.22 22.75 36.97\n",
      " 23.3  40.59 55.96 51.3  29.11 59.04 46.69 20.42]\n",
      "Part 5:\n",
      " [30.22 30.43 22.77 58.39 39.13 55.83 32.89 25.01 38.97 24.56 39.44 56.81\n",
      " 40.83 44.66 26.27 21.75 24.43 43.94 23.8  35.04 42.   35.55 26.55 30.95\n",
      " 57.13 47.04 39.84 20.51 59.7  46.86 32.68 55.17 30.34 41.76 45.44 28.84\n",
      " 59.14 49.93 42.31 27.22 22.15 32.8  50.13 30.77 41.58 49.12 24.32 47.41\n",
      " 23.67 58.61 39.54 26.03 33.7  36.54 50.33 49.74 44.48 24.24 26.06 23.75\n",
      " 43.09 55.09 37.35 26.43 42.32 52.47 49.67 55.26 31.12 27.76 55.19 46.3\n",
      " 32.44 49.69 52.6  44.6  47.52 35.01 41.55 40.97 53.92 53.6  53.31 20.44\n",
      " 49.98 50.35 47.14 50.25 53.68 38.81 40.08 24.99 35.42 45.73 51.22 28.69\n",
      " 25.51 46.52 20.08 27.13 21.16 26.68 27.25 35.51 36.09 54.97 40.4  48.94\n",
      " 24.17 29.02 48.12 22.11 39.46 43.97 44.09 20.92 32.88 45.46 25.96 47.82\n",
      " 49.84 59.28 28.39 53.01 40.81 34.94 24.9  49.42 29.43 34.86 22.5  52.05\n",
      " 50.66 49.34 31.98 26.94 45.5  39.85 27.13 47.44 59.65 49.89 49.6  58.01\n",
      " 28.12 42.62 59.19 26.61 48.01 43.43 43.46 47.91 57.18 51.3  22.25 54.11\n",
      " 29.02 35.08 38.47 39.24 37.41 57.49 48.24 45.25 21.99 56.16 56.38 51.21\n",
      " 20.28 22.29 29.01 25.25 35.95 56.9  38.88 20.54 31.31 21.78 21.45 31.03\n",
      " 31.02 51.49 58.99 34.85 37.16 53.79 30.73 26.26 54.12 21.86 44.79 42.48\n",
      " 33.84 32.61 50.87 23.46 29.47 49.3  41.93 25.12]\n"
     ]
    }
   ],
   "source": [
    "\n",
    "batting_avg_array = df[\"Batting Average\"].to_numpy()\n",
    "batting_avg_splits = np.array_split(batting_avg_array, 5)\n",
    "for i, part in enumerate(batting_avg_splits):\n",
    "    print(f\"Part {i+1}:\\n\", part)\n"
   ]
  },
  {
   "cell_type": "code",
   "execution_count": null,
   "id": "b0124db9-e09d-42c8-9caa-27410735970a",
   "metadata": {},
   "outputs": [],
   "source": []
  }
 ],
 "metadata": {
  "kernelspec": {
   "display_name": "Python 3 (ipykernel)",
   "language": "python",
   "name": "python3"
  },
  "language_info": {
   "codemirror_mode": {
    "name": "ipython",
    "version": 3
   },
   "file_extension": ".py",
   "mimetype": "text/x-python",
   "name": "python",
   "nbconvert_exporter": "python",
   "pygments_lexer": "ipython3",
   "version": "3.11.7"
  }
 },
 "nbformat": 4,
 "nbformat_minor": 5
}
